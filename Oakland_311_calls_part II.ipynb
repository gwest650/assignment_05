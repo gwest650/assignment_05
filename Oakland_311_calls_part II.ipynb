{
 "cells": [
  {
   "cell_type": "markdown",
   "id": "11ace21c",
   "metadata": {},
   "source": [
    "# Oakland 311 calls, part II "
   ]
  },
  {
   "cell_type": "markdown",
   "id": "14f96d59",
   "metadata": {},
   "source": [
    "## Import modules\n",
    "Again, at this point we will import the panda and altair modules at the start of the notebook. This time, we won't need to add requirements because we already have access to the data."
   ]
  },
  {
   "cell_type": "code",
   "execution_count": 2,
   "id": "fe6335f6",
   "metadata": {},
   "outputs": [
    {
     "name": "stderr",
     "output_type": "stream",
     "text": [
      "/Users/gracelynnewest/.pyenv/versions/3.8.5/envs/lecture_06-3.8.5/lib/python3.8/site-packages/pandas/compat/__init__.py:124: UserWarning: Could not import the lzma module. Your installed Python is incomplete. Attempting to use lzma compression will result in a RuntimeError.\n",
      "  warnings.warn(msg)\n"
     ]
    }
   ],
   "source": [
    "import pandas as pd\n",
    "import altair as alt"
   ]
  },
  {
   "cell_type": "code",
   "execution_count": null,
   "id": "4a6afd8f",
   "metadata": {},
   "outputs": [],
   "source": [
    "## Import data\n",
    "We did a lot of work last week cleaning up the Berkeley 311 calls. We don't need to redo that work since"
   ]
  }
 ],
 "metadata": {
  "kernelspec": {
   "display_name": "Python 3 (ipykernel)",
   "language": "python",
   "name": "python3"
  },
  "language_info": {
   "codemirror_mode": {
    "name": "ipython",
    "version": 3
   },
   "file_extension": ".py",
   "mimetype": "text/x-python",
   "name": "python",
   "nbconvert_exporter": "python",
   "pygments_lexer": "ipython3",
   "version": "3.8.5"
  }
 },
 "nbformat": 4,
 "nbformat_minor": 5
}
